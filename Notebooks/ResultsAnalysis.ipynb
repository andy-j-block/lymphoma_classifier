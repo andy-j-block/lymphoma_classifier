{
 "cells": [
  {
   "cell_type": "code",
   "execution_count": 272,
   "metadata": {
    "collapsed": true
   },
   "outputs": [],
   "source": [
    "import matplotlib.pyplot as plt\n",
    "import pandas as pd\n",
    "import seaborn as sns\n",
    "from sklearn.metrics import confusion_matrix\n",
    "import numpy as np\n",
    "from typing import List, Dict\n",
    "import warnings\n",
    "warnings.filterwarnings(\"ignore\", category=DeprecationWarning)"
   ]
  },
  {
   "cell_type": "code",
   "execution_count": 311,
   "outputs": [],
   "source": [
    "class ResultsAnalysis:\n",
    "    cancer_types: List[str] = ['CLL', 'FL', 'MCL']\n",
    "    n_cancer_types: int = len(cancer_types)\n",
    "\n",
    "    def __init__(self, results: str):\n",
    "        self.results = pd.read_csv(results, index_col=0)\n",
    "\n",
    "    def cumulative_confusion_matrix(self):\n",
    "        cf_matrix = confusion_matrix(self.results['y'], self.results['y_pred'])\n",
    "        cf_matrix = np.asarray(cf_matrix)\n",
    "\n",
    "        fig, ax = plt.subplots(figsize=(8,8))\n",
    "        im = ax.imshow(cf_matrix, cmap='Blues')\n",
    "\n",
    "        ax.set_title('Cumulative Confusion Matrix')\n",
    "        fig.tight_layout()\n",
    "\n",
    "        ax.set_xticks(range(self.n_cancer_types)), ax.set_yticks(range(self.n_cancer_types))\n",
    "        ax.set_xticklabels(self.cancer_types), ax.set_yticklabels(self.cancer_types)\n",
    "\n",
    "        text_colors = ['k', 'w']\n",
    "        text_color_threshold = 25\n",
    "        for i in range(self.n_cancer_types):\n",
    "            for j in range(self.n_cancer_types):\n",
    "                text = ax.text(j, i, cf_matrix[i, j],\n",
    "                               ha=\"center\", va=\"center\", color=text_colors[cf_matrix[i, j] > text_color_threshold])\n",
    "\n",
    "    def calculate_class_stats(self):\n",
    "\n",
    "        value_counts = self.results.value_counts()\n",
    "\n",
    "        for type_ in self.cancer_types:\n",
    "            \"\"\"create confusion dict objects\"\"\"\n",
    "            setattr(self, f'{type_}_confusion', {})\n",
    "\n",
    "            TP, FP, FN = value_counts.loc[type_, type_], len(self.results[(self.results['y_pred'] == type_) & (self.results['y'] != type_)]), len(self.results[(self.results['y_pred'] != type_) & (self.results['y'] == type_)])\n",
    "\n",
    "            getattr(self, f'{type_}_confusion')['TP'] = TP\n",
    "            getattr(self, f'{type_}_confusion')['FP'] = FP\n",
    "            getattr(self, f'{type_}_confusion')['FN'] = FN\n",
    "            getattr(self, f'{type_}_confusion')['TN'] = len(self.results) - TP - FP - FN\n",
    "\n",
    "    def class_confusion_matrices(self):\n",
    "\n",
    "        fig, ax = plt.subplots(1, self.n_cancer_types, figsize=(15,15))\n",
    "\n",
    "        for i, type_ in enumerate(self.cancer_types):\n",
    "            confusion = getattr(self, f'{type_}_confusion')\n",
    "            matrix = np.array([[confusion['TP'], confusion['FP']], [confusion['FN'], confusion['TN']]])\n",
    "            ax[i].set_title(f'{type_} Confusion Matrix')\n",
    "            ax[i].set_xlabel('Actual'), ax[i].set_ylabel('Prediction')\n",
    "            im = ax[i].imshow(matrix, cmap='Blues')\n",
    "\n",
    "            ax[i].set_xticks(range(2)), ax[i].set_yticks(range(2))\n",
    "            ax[i].set_xticklabels(['T','F']), ax[i].set_yticklabels(['T','F'])\n",
    "\n",
    "            text_colors, text_color_threshold = ['k', 'w'], 40\n",
    "            for j in range(2):\n",
    "                for k in range(2):\n",
    "                    text = ax[i].text(k, j, matrix[j, k],\n",
    "                                   ha=\"center\", va=\"center\", color=text_colors[matrix[j, k] > text_color_threshold])\n",
    "\n",
    "            fig.tight_layout()\n",
    "\n",
    "\n",
    "\n",
    "results_analysis = ResultsAnalysis('../final_results.csv')"
   ],
   "metadata": {
    "collapsed": false,
    "pycharm": {
     "name": "#%%\n"
    }
   }
  },
  {
   "cell_type": "code",
   "execution_count": 312,
   "outputs": [],
   "source": [
    "# results_analysis = ResultsAnalysis('../final_results.csv')"
   ],
   "metadata": {
    "collapsed": false,
    "pycharm": {
     "name": "#%%\n"
    }
   }
  },
  {
   "cell_type": "code",
   "execution_count": 313,
   "outputs": [
    {
     "data": {
      "text/plain": "     y y_pred\n0  CLL    CLL\n1  CLL    CLL\n2  CLL    CLL\n3  CLL    CLL\n4  CLL    CLL",
      "text/html": "<div>\n<style scoped>\n    .dataframe tbody tr th:only-of-type {\n        vertical-align: middle;\n    }\n\n    .dataframe tbody tr th {\n        vertical-align: top;\n    }\n\n    .dataframe thead th {\n        text-align: right;\n    }\n</style>\n<table border=\"1\" class=\"dataframe\">\n  <thead>\n    <tr style=\"text-align: right;\">\n      <th></th>\n      <th>y</th>\n      <th>y_pred</th>\n    </tr>\n  </thead>\n  <tbody>\n    <tr>\n      <th>0</th>\n      <td>CLL</td>\n      <td>CLL</td>\n    </tr>\n    <tr>\n      <th>1</th>\n      <td>CLL</td>\n      <td>CLL</td>\n    </tr>\n    <tr>\n      <th>2</th>\n      <td>CLL</td>\n      <td>CLL</td>\n    </tr>\n    <tr>\n      <th>3</th>\n      <td>CLL</td>\n      <td>CLL</td>\n    </tr>\n    <tr>\n      <th>4</th>\n      <td>CLL</td>\n      <td>CLL</td>\n    </tr>\n  </tbody>\n</table>\n</div>"
     },
     "execution_count": 313,
     "metadata": {},
     "output_type": "execute_result"
    }
   ],
   "source": [
    "results_analysis.results.head()"
   ],
   "metadata": {
    "collapsed": false,
    "pycharm": {
     "name": "#%%\n"
    }
   }
  },
  {
   "cell_type": "code",
   "execution_count": 314,
   "outputs": [
    {
     "data": {
      "text/plain": "<Figure size 576x576 with 1 Axes>",
      "image/png": "[encoded data removed]"
     },
     "metadata": {
      "needs_background": "light"
     },
     "output_type": "display_data"
    }
   ],
   "source": [
    "results_analysis.cumulative_confusion_matrix()"
   ],
   "metadata": {
    "collapsed": false,
    "pycharm": {
     "name": "#%%\n"
    }
   }
  },
  {
   "cell_type": "code",
   "execution_count": 315,
   "outputs": [
    {
     "data": {
      "text/plain": "<Figure size 1080x1080 with 3 Axes>",
      "image/png": "[encoded data removed]"
     },
     "metadata": {
      "needs_background": "light"
     },
     "output_type": "display_data"
    }
   ],
   "source": [
    "results_analysis.calculate_class_stats()\n",
    "results_analysis.class_confusion_matrices()"
   ],
   "metadata": {
    "collapsed": false,
    "pycharm": {
     "name": "#%%\n"
    }
   }
  },
  {
   "cell_type": "code",
   "execution_count": 310,
   "outputs": [
    {
     "name": "stdout",
     "output_type": "stream",
     "text": [
      "{'TP': 37, 'FP': 15, 'FN': 7, 'TN': 66} {'TP': 34, 'FP': 6, 'FN': 10, 'TN': 75} {'TP': 25, 'FP': 8, 'FN': 12, 'TN': 80}\n"
     ]
    }
   ],
   "source": [
    "print(results_analysis.CLL_confusion, results_analysis.FL_confusion, results_analysis.MCL_confusion)"
   ],
   "metadata": {
    "collapsed": false,
    "pycharm": {
     "name": "#%%\n"
    }
   }
  },
  {
   "cell_type": "code",
   "execution_count": null,
   "outputs": [],
   "source": [],
   "metadata": {
    "collapsed": false,
    "pycharm": {
     "name": "#%%\n"
    }
   }
  }
 ],
 "metadata": {
  "kernelspec": {
   "display_name": "Python 3",
   "language": "python",
   "name": "python3"
  },
  "language_info": {
   "codemirror_mode": {
    "name": "ipython",
    "version": 2
   },
   "file_extension": ".py",
   "mimetype": "text/x-python",
   "name": "python",
   "nbconvert_exporter": "python",
   "pygments_lexer": "ipython2",
   "version": "2.7.6"
  }
 },
 "nbformat": 4,
 "nbformat_minor": 0
}
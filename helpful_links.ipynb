{
  "nbformat": 4,
  "nbformat_minor": 0,
  "metadata": {
    "colab": {
      "name": "helpful_links.ipynb",
      "provenance": [],
      "authorship_tag": "ABX9TyMjLMSPOnAXG0lNiWmfZ0Nj",
      "include_colab_link": true
    },
    "kernelspec": {
      "name": "python3",
      "display_name": "Python 3"
    },
    "language_info": {
      "name": "python"
    }
  },
  "cells": [
    {
      "cell_type": "markdown",
      "metadata": {
        "id": "view-in-github",
        "colab_type": "text"
      },
      "source": [
        "<a href=\"https://colab.research.google.com/github/andy-j-block/lymphoma_classifier/blob/master/helpful_links.ipynb\" target=\"_parent\"><img src=\"https://colab.research.google.com/assets/colab-badge.svg\" alt=\"Open In Colab\"/></a>"
      ]
    },
    {
      "cell_type": "markdown",
      "metadata": {
        "id": "A298AOp_2v-G"
      },
      "source": [
        "data generation:\n",
        "\n",
        "https://pytorch.org/tutorials/beginner/data_loading_tutorial.html\n",
        "\n",
        "https://stanford.edu/~shervine/blog/pytorch-how-to-generate-data-parallel"
      ]
    },
    {
      "cell_type": "markdown",
      "metadata": {
        "id": "5zQF74um2wmn"
      },
      "source": [
        "code examples:\n",
        "\n",
        "https://github.com/python-engineer/pytorchTutorial\n",
        "\n",
        "https://www.youtube.com/playlist?list=PLqnslRFeH2UrcDBWF5mfPGpqQDSta6VK4"
      ]
    },
    {
      "cell_type": "markdown",
      "metadata": {
        "id": "ElCa-HYZ2vxH"
      },
      "source": [
        "pytorch:\n",
        "\n",
        "https://github.com/python-engineer/pytorchTutorial"
      ]
    }
  ]
}